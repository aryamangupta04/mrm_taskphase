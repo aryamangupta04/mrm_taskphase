{
 "cells": [
  {
   "cell_type": "code",
   "execution_count": 1,
   "id": "1c6d846f",
   "metadata": {
    "_cell_guid": "b1076dfc-b9ad-4769-8c92-a6c4dae69d19",
    "_uuid": "8f2839f25d086af736a60e9eeb907d3b93b6e0e5",
    "execution": {
     "iopub.execute_input": "2024-01-14T08:07:37.716421Z",
     "iopub.status.busy": "2024-01-14T08:07:37.715994Z",
     "iopub.status.idle": "2024-01-14T08:07:38.104830Z",
     "shell.execute_reply": "2024-01-14T08:07:38.103601Z"
    },
    "papermill": {
     "duration": 0.397013,
     "end_time": "2024-01-14T08:07:38.107318",
     "exception": false,
     "start_time": "2024-01-14T08:07:37.710305",
     "status": "completed"
    },
    "tags": []
   },
   "outputs": [
    {
     "name": "stdout",
     "output_type": "stream",
     "text": [
      "/kaggle/input/digit-detection/fashion-mnist_test.csv\n",
      "/kaggle/input/digit-detection/fashion-mnist_train.csv\n"
     ]
    }
   ],
   "source": [
    "# This Python 3 environment comes with many helpful analytics libraries installed\n",
    "# It is defined by the kaggle/python Docker image: https://github.com/kaggle/docker-python\n",
    "# For example, here's several helpful packages to load\n",
    "\n",
    "import numpy as np # linear algebra\n",
    "import pandas as pd # data processing, CSV file I/O (e.g. pd.read_csv)\n",
    "\n",
    "# Input data files are available in the read-only \"../input/\" directory\n",
    "# For example, running this (by clicking run or pressing Shift+Enter) will list all files under the input directory\n",
    "\n",
    "import os\n",
    "for dirname, _, filenames in os.walk('/kaggle/input'):\n",
    "    for filename in filenames:\n",
    "        print(os.path.join(dirname, filename))\n",
    "\n",
    "# You can write up to 20GB to the current directory (/kaggle/working/) that gets preserved as output when you create a version using \"Save & Run All\" \n",
    "# You can also write temporary files to /kaggle/temp/, but they won't be saved outside of the current session"
   ]
  },
  {
   "cell_type": "code",
   "execution_count": 2,
   "id": "c52cb69e",
   "metadata": {
    "execution": {
     "iopub.execute_input": "2024-01-14T08:07:38.116824Z",
     "iopub.status.busy": "2024-01-14T08:07:38.116291Z",
     "iopub.status.idle": "2024-01-14T08:07:44.988825Z",
     "shell.execute_reply": "2024-01-14T08:07:44.987023Z"
    },
    "papermill": {
     "duration": 6.879963,
     "end_time": "2024-01-14T08:07:44.991418",
     "exception": false,
     "start_time": "2024-01-14T08:07:38.111455",
     "status": "completed"
    },
    "tags": []
   },
   "outputs": [],
   "source": [
    "def output(x_org):\n",
    "    unique=np.unique(x_org.label)\n",
    "    labels=np.zeros((x_org.shape[0],10))\n",
    "    for i,val in enumerate(unique):\n",
    "        labels[:,i]=np.where(x_org.label==val,1,0)\n",
    "    return labels\n",
    "x_org=pd.read_csv(\"/kaggle/input/digit-detection/fashion-mnist_train.csv\")\n",
    "test=pd.read_csv(\"/kaggle/input/digit-detection/fashion-mnist_test.csv\")\n",
    "test_y=(output(test))\n",
    "test_x=((test).T)[1:]\n",
    "labels=output(x_org)\n",
    "x=(x_org.T)[1:]\n",
    "labels=labels.T\n",
    "labels.shape\n",
    "#x.drop(\"label\",axis=1,inplace=True)\n",
    "#labels.shape\n",
    "#x.shape\n",
    "def derivative_relu(x):\n",
    "    return np.array(x > 0, dtype = np.float32)\n",
    "def derivative_tanh(x):\n",
    "    return (1 - np.power(np.tanh(x), 2))"
   ]
  },
  {
   "cell_type": "code",
   "execution_count": 3,
   "id": "6d83ea15",
   "metadata": {
    "execution": {
     "iopub.execute_input": "2024-01-14T08:07:45.000729Z",
     "iopub.status.busy": "2024-01-14T08:07:45.000249Z",
     "iopub.status.idle": "2024-01-14T08:07:45.016629Z",
     "shell.execute_reply": "2024-01-14T08:07:45.015574Z"
    },
    "papermill": {
     "duration": 0.023861,
     "end_time": "2024-01-14T08:07:45.018934",
     "exception": false,
     "start_time": "2024-01-14T08:07:44.995073",
     "status": "completed"
    },
    "tags": []
   },
   "outputs": [],
   "source": [
    "\n",
    "def params(x, h, label):\n",
    "    w1 = np.random.randn(h, x.shape[0])*0.01\n",
    "    w2 = np.random.randn(label.shape[0], h)*0.01\n",
    "    b1 = np.zeros((h, 1))\n",
    "    b2 = np.zeros((label.shape[0], 1))\n",
    "    parameters = {\n",
    "        \"w1\": w1,\n",
    "        \"w2\": w2,\n",
    "        \"b1\": b1,\n",
    "        \"b2\": b2\n",
    "    }\n",
    "    return parameters\n",
    "\n",
    "\n",
    "def forward_propagation(parameters, x):\n",
    "    z1 = np.dot(parameters[\"w1\"], x) + parameters[\"b1\"]\n",
    "    a1 = np.tanh(z1)\n",
    "    z2 = np.dot(parameters[\"w2\"], a1) + parameters[\"b2\"]\n",
    "    a2 = softmax(z2)\n",
    "       \n",
    "    forward = {\n",
    "        \"z1\" : z1,\n",
    "        \"a1\" : a1,\n",
    "        \"z2\" : z2,\n",
    "        \"a2\" : a2\n",
    "    }\n",
    "    \n",
    "    return forward\n",
    "\n",
    "\n",
    "\n",
    "def backward_propagation(x, y, parameters,forward):\n",
    "    \n",
    "    w1 = parameters['w1']\n",
    "    b1 = parameters['b1']\n",
    "    w2 = parameters['w2']\n",
    "    b2 = parameters['b2']\n",
    "    a1 = forward['a1']\n",
    "    a2 = forward['a2']\n",
    "    \n",
    "    m = x.shape[1]\n",
    "    \n",
    "    dz2 = (a2 - y)\n",
    "    dw2 = (1/m)*np.dot(dz2, a1.T)\n",
    "    db2 = (1/m)*np.sum(dz2, axis = 1, keepdims = True)\n",
    "    \n",
    "    dz1 = (1/m)*np.dot(w2.T, dz2)*derivative_tanh(a1)\n",
    "    dw1 = (1/m)*np.dot(dz1, x.T)\n",
    "    db1 = (1/m)*np.sum(dz1, axis = 1, keepdims = True)\n",
    "    \n",
    "    gradients = {\n",
    "        \"dw1\" : dw1,\n",
    "        \"db1\" : db1,\n",
    "        \"dw2\" : dw2,\n",
    "        \"db2\" : db2\n",
    "    }\n",
    "    \n",
    "    return gradients\n",
    "\n",
    "def update_parameters(parameters, gradients, learning_rate):\n",
    "    parameters[\"w2\"] = parameters[\"w2\"] - learning_rate * gradients[\"dw2\"]\n",
    "    parameters[\"w1\"] = parameters[\"w1\"] - learning_rate * gradients[\"dw1\"]\n",
    "    parameters[\"b2\"] = parameters[\"b2\"] - learning_rate * gradients[\"db2\"]\n",
    "    parameters[\"b1\"] = parameters[\"b1\"] - learning_rate * gradients[\"db1\"]\n",
    "    return parameters\n",
    "\n",
    "\n"
   ]
  },
  {
   "cell_type": "code",
   "execution_count": 4,
   "id": "15911fe9",
   "metadata": {
    "execution": {
     "iopub.execute_input": "2024-01-14T08:07:45.027737Z",
     "iopub.status.busy": "2024-01-14T08:07:45.027361Z",
     "iopub.status.idle": "2024-01-14T08:07:45.032260Z",
     "shell.execute_reply": "2024-01-14T08:07:45.031179Z"
    },
    "papermill": {
     "duration": 0.011789,
     "end_time": "2024-01-14T08:07:45.034252",
     "exception": false,
     "start_time": "2024-01-14T08:07:45.022463",
     "status": "completed"
    },
    "tags": []
   },
   "outputs": [],
   "source": [
    "def leaky_relu(coef, z):\n",
    "    return np.maximum(0, z)\n",
    "\n",
    "def softmax(z):\n",
    "    expz = np.exp(z)  # Subtracting max to improve numerical stability\n",
    "    return expz / np.sum(expz, axis=0)\n",
    "\n"
   ]
  },
  {
   "cell_type": "code",
   "execution_count": 5,
   "id": "062f8a91",
   "metadata": {
    "execution": {
     "iopub.execute_input": "2024-01-14T08:07:45.043945Z",
     "iopub.status.busy": "2024-01-14T08:07:45.043588Z",
     "iopub.status.idle": "2024-01-14T08:07:45.048046Z",
     "shell.execute_reply": "2024-01-14T08:07:45.046994Z"
    },
    "papermill": {
     "duration": 0.012331,
     "end_time": "2024-01-14T08:07:45.050239",
     "exception": false,
     "start_time": "2024-01-14T08:07:45.037908",
     "status": "completed"
    },
    "tags": []
   },
   "outputs": [],
   "source": [
    "def cost_func(pred, labels):\n",
    "    m = labels.shape[1]\n",
    "    cost = -(1/m)*np.sum(labels*np.log(pred))\n",
    "    return cost\n"
   ]
  },
  {
   "cell_type": "code",
   "execution_count": 6,
   "id": "f4beaa00",
   "metadata": {
    "execution": {
     "iopub.execute_input": "2024-01-14T08:07:45.059330Z",
     "iopub.status.busy": "2024-01-14T08:07:45.058377Z",
     "iopub.status.idle": "2024-01-14T08:07:45.064705Z",
     "shell.execute_reply": "2024-01-14T08:07:45.063576Z"
    },
    "papermill": {
     "duration": 0.014437,
     "end_time": "2024-01-14T08:07:45.068234",
     "exception": false,
     "start_time": "2024-01-14T08:07:45.053797",
     "status": "completed"
    },
    "tags": []
   },
   "outputs": [],
   "source": [
    "def model(x, labels, learning_rate, iterations):\n",
    "    parameters = params(x, 1000, labels)\n",
    "    cost=[]\n",
    "    for i in range(iterations):\n",
    "        forward = forward_propagation(parameters,x)\n",
    "        cost.append(cost_func(forward['a2'], labels))\n",
    "        gradients = backward_propagation(x, labels, parameters, forward)\n",
    "        parameters = update_parameters(parameters, gradients, learning_rate)\n",
    "    return parameters,cost\n",
    "\n"
   ]
  },
  {
   "cell_type": "code",
   "execution_count": 7,
   "id": "7a88cb2c",
   "metadata": {
    "execution": {
     "iopub.execute_input": "2024-01-14T08:07:45.077206Z",
     "iopub.status.busy": "2024-01-14T08:07:45.076819Z",
     "iopub.status.idle": "2024-01-14T08:50:48.980380Z",
     "shell.execute_reply": "2024-01-14T08:50:48.979064Z"
    },
    "papermill": {
     "duration": 2583.911916,
     "end_time": "2024-01-14T08:50:48.983840",
     "exception": false,
     "start_time": "2024-01-14T08:07:45.071924",
     "status": "completed"
    },
    "tags": []
   },
   "outputs": [],
   "source": [
    "learned_parameters,cost = model(x, labels, 0.03, 200)\n"
   ]
  },
  {
   "cell_type": "code",
   "execution_count": 8,
   "id": "bcc67ebf",
   "metadata": {
    "execution": {
     "iopub.execute_input": "2024-01-14T08:50:48.998929Z",
     "iopub.status.busy": "2024-01-14T08:50:48.997617Z",
     "iopub.status.idle": "2024-01-14T08:50:49.268199Z",
     "shell.execute_reply": "2024-01-14T08:50:49.267386Z"
    },
    "papermill": {
     "duration": 0.280298,
     "end_time": "2024-01-14T08:50:49.270425",
     "exception": false,
     "start_time": "2024-01-14T08:50:48.990127",
     "status": "completed"
    },
    "tags": []
   },
   "outputs": [
    {
     "data": {
      "image/png": "[encoded data removed]",
      "text/plain": [
       "<Figure size 640x480 with 1 Axes>"
      ]
     },
     "metadata": {},
     "output_type": "display_data"
    }
   ],
   "source": [
    "import matplotlib.pyplot as plt\n",
    "plt.plot(range(1, len(cost) + 1), cost, marker='o')\n",
    "plt.xlabel('Epoch')\n",
    "plt.ylabel('Cost')\n",
    "plt.title('Cost vs Epoch')\n",
    "plt.show()\n",
    "\n",
    "def test(test_x,test_y,parameters):\n",
    "    forward=forward_propagation(parameters,test_x)\n",
    "    output_vals=forward[\"a2\"]\n",
    "    output=np.argmax(output_vals,0)\n",
    "    test_y=np.argmax(test_y,0)\n",
    "    print(output.shape)\n",
    "    print(test_y.shape)\n",
    "    accuracy = np.mean(output== test_y)*100\n",
    "    print(\"the accuracy is: \",accuracy)"
   ]
  },
  {
   "cell_type": "code",
   "execution_count": 9,
   "id": "8300df55",
   "metadata": {
    "execution": {
     "iopub.execute_input": "2024-01-14T08:50:49.280964Z",
     "iopub.status.busy": "2024-01-14T08:50:49.279950Z",
     "iopub.status.idle": "2024-01-14T08:50:55.809297Z",
     "shell.execute_reply": "2024-01-14T08:50:55.808078Z"
    },
    "papermill": {
     "duration": 6.538421,
     "end_time": "2024-01-14T08:50:55.812888",
     "exception": false,
     "start_time": "2024-01-14T08:50:49.274467",
     "status": "completed"
    },
    "tags": []
   },
   "outputs": [
    {
     "name": "stdout",
     "output_type": "stream",
     "text": [
      "(60000,)\n",
      "(60000,)\n",
      "the accuracy is:  82.96833333333333\n",
      "(10000,)\n",
      "(10000,)\n",
      "the accuracy is:  82.93\n"
     ]
    }
   ],
   "source": [
    "test(x,labels,learned_parameters)\n",
    "test(test_x,test_y.T,learned_parameters)"
   ]
  },
  {
   "cell_type": "code",
   "execution_count": null,
   "id": "ce67ebd8",
   "metadata": {
    "papermill": {
     "duration": 0.006487,
     "end_time": "2024-01-14T08:50:55.826397",
     "exception": false,
     "start_time": "2024-01-14T08:50:55.819910",
     "status": "completed"
    },
    "tags": []
   },
   "outputs": [],
   "source": []
  },
  {
   "cell_type": "code",
   "execution_count": null,
   "id": "b9af9178",
   "metadata": {
    "papermill": {
     "duration": 0.006435,
     "end_time": "2024-01-14T08:50:55.839628",
     "exception": false,
     "start_time": "2024-01-14T08:50:55.833193",
     "status": "completed"
    },
    "tags": []
   },
   "outputs": [],
   "source": []
  }
 ],
 "metadata": {
  "kaggle": {
   "accelerator": "none",
   "dataSources": [
    {
     "datasetId": 4298961,
     "sourceId": 7394436,
     "sourceType": "datasetVersion"
    }
   ],
   "dockerImageVersionId": 30635,
   "isGpuEnabled": false,
   "isInternetEnabled": false,
   "language": "python",
   "sourceType": "notebook"
  },
  "kernelspec": {
   "display_name": "Python 3",
   "language": "python",
   "name": "python3"
  },
  "language_info": {
   "codemirror_mode": {
    "name": "ipython",
    "version": 3
   },
   "file_extension": ".py",
   "mimetype": "text/x-python",
   "name": "python",
   "nbconvert_exporter": "python",
   "pygments_lexer": "ipython3",
   "version": "3.10.12"
  },
  "papermill": {
   "default_parameters": {},
   "duration": 2601.736457,
   "end_time": "2024-01-14T08:50:56.373628",
   "environment_variables": {},
   "exception": null,
   "input_path": "__notebook__.ipynb",
   "output_path": "__notebook__.ipynb",
   "parameters": {},
   "start_time": "2024-01-14T08:07:34.637171",
   "version": "2.4.0"
  }
 },
 "nbformat": 4,
 "nbformat_minor": 5
}
