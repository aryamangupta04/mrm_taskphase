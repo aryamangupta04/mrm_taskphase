{
 "cells": [
  {
   "cell_type": "code",
   "execution_count": 1,
   "id": "0fa1e9e9",
   "metadata": {
    "_cell_guid": "b1076dfc-b9ad-4769-8c92-a6c4dae69d19",
    "_uuid": "8f2839f25d086af736a60e9eeb907d3b93b6e0e5",
    "execution": {
     "iopub.execute_input": "2023-11-05T17:50:47.174975Z",
     "iopub.status.busy": "2023-11-05T17:50:47.173906Z",
     "iopub.status.idle": "2023-11-05T17:50:47.636398Z",
     "shell.execute_reply": "2023-11-05T17:50:47.635192Z"
    },
    "papermill": {
     "duration": 0.478537,
     "end_time": "2023-11-05T17:50:47.638906",
     "exception": false,
     "start_time": "2023-11-05T17:50:47.160369",
     "status": "completed"
    },
    "tags": []
   },
   "outputs": [
    {
     "name": "stdout",
     "output_type": "stream",
     "text": [
      "/kaggle/input/car-prices/CarPrice_Assignment.csv\n",
      "/kaggle/input/car-prices/Data Dictionary - carprices.xlsx\n"
     ]
    }
   ],
   "source": [
    "# This Python 3 environment comes with many helpful analytics libraries installed\n",
    "# It is defined by the kaggle/python Docker image: https://github.com/kaggle/docker-python\n",
    "# For example, here's several helpful packages to load\n",
    "\n",
    "import numpy as np # linear algebra\n",
    "import pandas as pd # data processing, CSV file I/O (e.g. pd.read_csv)\n",
    "import matplotlib.pyplot as plt\n",
    "\n",
    "# Input data files are available in the read-only \"../input/\" directory\n",
    "# For example, running this (by clicking run or pressing Shift+Enter) will list all files under the input directory\n",
    "\n",
    "import os\n",
    "for dirname, _, filenames in os.walk('/kaggle/input'):\n",
    "    for filename in filenames:\n",
    "        print(os.path.join(dirname, filename))\n",
    "\n",
    "# You can write up to 20GB to the current directory (/kaggle/working/) that gets preserved as output when you create a version using \"Save & Run All\" \n",
    "# You can also write temporary files to /kaggle/temp/, but they won't be saved outside of the current session"
   ]
  },
  {
   "cell_type": "code",
   "execution_count": 2,
   "id": "17e0cebb",
   "metadata": {
    "execution": {
     "iopub.execute_input": "2023-11-05T17:50:47.656508Z",
     "iopub.status.busy": "2023-11-05T17:50:47.655575Z",
     "iopub.status.idle": "2023-11-05T17:50:47.759241Z",
     "shell.execute_reply": "2023-11-05T17:50:47.757887Z"
    },
    "papermill": {
     "duration": 0.116504,
     "end_time": "2023-11-05T17:50:47.762790",
     "exception": false,
     "start_time": "2023-11-05T17:50:47.646286",
     "status": "completed"
    },
    "tags": []
   },
   "outputs": [
    {
     "name": "stdout",
     "output_type": "stream",
     "text": [
      "['convertible' 'hatchback' 'sedan' 'wagon' 'hardtop']\n",
      "['mpfi' '2bbl' 'mfi' '1bbl' 'spfi' '4bbl' 'idi' 'spdi']\n",
      "['four' 'six' 'five' 'three' 'twelve' 'two' 'eight']\n",
      "['rwd' 'fwd' '4wd']\n"
     ]
    },
    {
     "data": {
      "text/html": [
       "<div>\n",
       "<style scoped>\n",
       "    .dataframe tbody tr th:only-of-type {\n",
       "        vertical-align: middle;\n",
       "    }\n",
       "\n",
       "    .dataframe tbody tr th {\n",
       "        vertical-align: top;\n",
       "    }\n",
       "\n",
       "    .dataframe thead th {\n",
       "        text-align: right;\n",
       "    }\n",
       "</style>\n",
       "<table border=\"1\" class=\"dataframe\">\n",
       "  <thead>\n",
       "    <tr style=\"text-align: right;\">\n",
       "      <th></th>\n",
       "      <th>car_ID</th>\n",
       "      <th>symboling</th>\n",
       "      <th>CarName</th>\n",
       "      <th>fueltype</th>\n",
       "      <th>aspiration</th>\n",
       "      <th>doornumber</th>\n",
       "      <th>carbody</th>\n",
       "      <th>drivewheel</th>\n",
       "      <th>enginelocation</th>\n",
       "      <th>wheelbase</th>\n",
       "      <th>...</th>\n",
       "      <th>enginesize</th>\n",
       "      <th>fuelsystem</th>\n",
       "      <th>boreratio</th>\n",
       "      <th>stroke</th>\n",
       "      <th>compressionratio</th>\n",
       "      <th>horsepower</th>\n",
       "      <th>peakrpm</th>\n",
       "      <th>citympg</th>\n",
       "      <th>highwaympg</th>\n",
       "      <th>price</th>\n",
       "    </tr>\n",
       "  </thead>\n",
       "  <tbody>\n",
       "    <tr>\n",
       "      <th>0</th>\n",
       "      <td>1</td>\n",
       "      <td>3</td>\n",
       "      <td>alfa-romero giulia</td>\n",
       "      <td>1</td>\n",
       "      <td>1</td>\n",
       "      <td>2</td>\n",
       "      <td>6</td>\n",
       "      <td>1</td>\n",
       "      <td>1000</td>\n",
       "      <td>88.6</td>\n",
       "      <td>...</td>\n",
       "      <td>130</td>\n",
       "      <td>1</td>\n",
       "      <td>3.47</td>\n",
       "      <td>2.68</td>\n",
       "      <td>9.0</td>\n",
       "      <td>111</td>\n",
       "      <td>5000</td>\n",
       "      <td>21</td>\n",
       "      <td>27</td>\n",
       "      <td>13495.0</td>\n",
       "    </tr>\n",
       "    <tr>\n",
       "      <th>1</th>\n",
       "      <td>2</td>\n",
       "      <td>3</td>\n",
       "      <td>alfa-romero stelvio</td>\n",
       "      <td>1</td>\n",
       "      <td>1</td>\n",
       "      <td>2</td>\n",
       "      <td>6</td>\n",
       "      <td>1</td>\n",
       "      <td>1000</td>\n",
       "      <td>88.6</td>\n",
       "      <td>...</td>\n",
       "      <td>130</td>\n",
       "      <td>1</td>\n",
       "      <td>3.47</td>\n",
       "      <td>2.68</td>\n",
       "      <td>9.0</td>\n",
       "      <td>111</td>\n",
       "      <td>5000</td>\n",
       "      <td>21</td>\n",
       "      <td>27</td>\n",
       "      <td>16500.0</td>\n",
       "    </tr>\n",
       "    <tr>\n",
       "      <th>2</th>\n",
       "      <td>3</td>\n",
       "      <td>1</td>\n",
       "      <td>alfa-romero Quadrifoglio</td>\n",
       "      <td>1</td>\n",
       "      <td>1</td>\n",
       "      <td>2</td>\n",
       "      <td>2</td>\n",
       "      <td>1</td>\n",
       "      <td>1000</td>\n",
       "      <td>94.5</td>\n",
       "      <td>...</td>\n",
       "      <td>152</td>\n",
       "      <td>1</td>\n",
       "      <td>2.68</td>\n",
       "      <td>3.47</td>\n",
       "      <td>9.0</td>\n",
       "      <td>154</td>\n",
       "      <td>5000</td>\n",
       "      <td>19</td>\n",
       "      <td>26</td>\n",
       "      <td>16500.0</td>\n",
       "    </tr>\n",
       "    <tr>\n",
       "      <th>3</th>\n",
       "      <td>4</td>\n",
       "      <td>2</td>\n",
       "      <td>audi 100 ls</td>\n",
       "      <td>1</td>\n",
       "      <td>1</td>\n",
       "      <td>4</td>\n",
       "      <td>3</td>\n",
       "      <td>2</td>\n",
       "      <td>1000</td>\n",
       "      <td>99.8</td>\n",
       "      <td>...</td>\n",
       "      <td>109</td>\n",
       "      <td>1</td>\n",
       "      <td>3.19</td>\n",
       "      <td>3.40</td>\n",
       "      <td>10.0</td>\n",
       "      <td>102</td>\n",
       "      <td>5500</td>\n",
       "      <td>24</td>\n",
       "      <td>30</td>\n",
       "      <td>13950.0</td>\n",
       "    </tr>\n",
       "    <tr>\n",
       "      <th>4</th>\n",
       "      <td>5</td>\n",
       "      <td>2</td>\n",
       "      <td>audi 100ls</td>\n",
       "      <td>1</td>\n",
       "      <td>1</td>\n",
       "      <td>4</td>\n",
       "      <td>3</td>\n",
       "      <td>3</td>\n",
       "      <td>1000</td>\n",
       "      <td>99.4</td>\n",
       "      <td>...</td>\n",
       "      <td>136</td>\n",
       "      <td>1</td>\n",
       "      <td>3.19</td>\n",
       "      <td>3.40</td>\n",
       "      <td>8.0</td>\n",
       "      <td>115</td>\n",
       "      <td>5500</td>\n",
       "      <td>18</td>\n",
       "      <td>22</td>\n",
       "      <td>17450.0</td>\n",
       "    </tr>\n",
       "    <tr>\n",
       "      <th>...</th>\n",
       "      <td>...</td>\n",
       "      <td>...</td>\n",
       "      <td>...</td>\n",
       "      <td>...</td>\n",
       "      <td>...</td>\n",
       "      <td>...</td>\n",
       "      <td>...</td>\n",
       "      <td>...</td>\n",
       "      <td>...</td>\n",
       "      <td>...</td>\n",
       "      <td>...</td>\n",
       "      <td>...</td>\n",
       "      <td>...</td>\n",
       "      <td>...</td>\n",
       "      <td>...</td>\n",
       "      <td>...</td>\n",
       "      <td>...</td>\n",
       "      <td>...</td>\n",
       "      <td>...</td>\n",
       "      <td>...</td>\n",
       "      <td>...</td>\n",
       "    </tr>\n",
       "    <tr>\n",
       "      <th>200</th>\n",
       "      <td>201</td>\n",
       "      <td>-1</td>\n",
       "      <td>volvo 145e (sw)</td>\n",
       "      <td>1</td>\n",
       "      <td>1</td>\n",
       "      <td>4</td>\n",
       "      <td>3</td>\n",
       "      <td>1</td>\n",
       "      <td>1000</td>\n",
       "      <td>109.1</td>\n",
       "      <td>...</td>\n",
       "      <td>141</td>\n",
       "      <td>1</td>\n",
       "      <td>3.78</td>\n",
       "      <td>3.15</td>\n",
       "      <td>9.5</td>\n",
       "      <td>114</td>\n",
       "      <td>5400</td>\n",
       "      <td>23</td>\n",
       "      <td>28</td>\n",
       "      <td>16845.0</td>\n",
       "    </tr>\n",
       "    <tr>\n",
       "      <th>201</th>\n",
       "      <td>202</td>\n",
       "      <td>-1</td>\n",
       "      <td>volvo 144ea</td>\n",
       "      <td>1</td>\n",
       "      <td>2</td>\n",
       "      <td>4</td>\n",
       "      <td>3</td>\n",
       "      <td>1</td>\n",
       "      <td>1000</td>\n",
       "      <td>109.1</td>\n",
       "      <td>...</td>\n",
       "      <td>141</td>\n",
       "      <td>1</td>\n",
       "      <td>3.78</td>\n",
       "      <td>3.15</td>\n",
       "      <td>8.7</td>\n",
       "      <td>160</td>\n",
       "      <td>5300</td>\n",
       "      <td>19</td>\n",
       "      <td>25</td>\n",
       "      <td>19045.0</td>\n",
       "    </tr>\n",
       "    <tr>\n",
       "      <th>202</th>\n",
       "      <td>203</td>\n",
       "      <td>-1</td>\n",
       "      <td>volvo 244dl</td>\n",
       "      <td>1</td>\n",
       "      <td>1</td>\n",
       "      <td>4</td>\n",
       "      <td>3</td>\n",
       "      <td>1</td>\n",
       "      <td>1000</td>\n",
       "      <td>109.1</td>\n",
       "      <td>...</td>\n",
       "      <td>173</td>\n",
       "      <td>1</td>\n",
       "      <td>3.58</td>\n",
       "      <td>2.87</td>\n",
       "      <td>8.8</td>\n",
       "      <td>134</td>\n",
       "      <td>5500</td>\n",
       "      <td>18</td>\n",
       "      <td>23</td>\n",
       "      <td>21485.0</td>\n",
       "    </tr>\n",
       "    <tr>\n",
       "      <th>203</th>\n",
       "      <td>204</td>\n",
       "      <td>-1</td>\n",
       "      <td>volvo 246</td>\n",
       "      <td>2</td>\n",
       "      <td>2</td>\n",
       "      <td>4</td>\n",
       "      <td>3</td>\n",
       "      <td>1</td>\n",
       "      <td>1000</td>\n",
       "      <td>109.1</td>\n",
       "      <td>...</td>\n",
       "      <td>145</td>\n",
       "      <td>2</td>\n",
       "      <td>3.01</td>\n",
       "      <td>3.40</td>\n",
       "      <td>23.0</td>\n",
       "      <td>106</td>\n",
       "      <td>4800</td>\n",
       "      <td>26</td>\n",
       "      <td>27</td>\n",
       "      <td>22470.0</td>\n",
       "    </tr>\n",
       "    <tr>\n",
       "      <th>204</th>\n",
       "      <td>205</td>\n",
       "      <td>-1</td>\n",
       "      <td>volvo 264gl</td>\n",
       "      <td>1</td>\n",
       "      <td>2</td>\n",
       "      <td>4</td>\n",
       "      <td>3</td>\n",
       "      <td>1</td>\n",
       "      <td>1000</td>\n",
       "      <td>109.1</td>\n",
       "      <td>...</td>\n",
       "      <td>141</td>\n",
       "      <td>1</td>\n",
       "      <td>3.78</td>\n",
       "      <td>3.15</td>\n",
       "      <td>9.5</td>\n",
       "      <td>114</td>\n",
       "      <td>5400</td>\n",
       "      <td>19</td>\n",
       "      <td>25</td>\n",
       "      <td>22625.0</td>\n",
       "    </tr>\n",
       "  </tbody>\n",
       "</table>\n",
       "<p>205 rows × 26 columns</p>\n",
       "</div>"
      ],
      "text/plain": [
       "     car_ID  symboling                   CarName  fueltype  aspiration  \\\n",
       "0         1          3        alfa-romero giulia         1           1   \n",
       "1         2          3       alfa-romero stelvio         1           1   \n",
       "2         3          1  alfa-romero Quadrifoglio         1           1   \n",
       "3         4          2               audi 100 ls         1           1   \n",
       "4         5          2                audi 100ls         1           1   \n",
       "..      ...        ...                       ...       ...         ...   \n",
       "200     201         -1           volvo 145e (sw)         1           1   \n",
       "201     202         -1               volvo 144ea         1           2   \n",
       "202     203         -1               volvo 244dl         1           1   \n",
       "203     204         -1                 volvo 246         2           2   \n",
       "204     205         -1               volvo 264gl         1           2   \n",
       "\n",
       "     doornumber  carbody  drivewheel  enginelocation  wheelbase  ...  \\\n",
       "0             2        6           1            1000       88.6  ...   \n",
       "1             2        6           1            1000       88.6  ...   \n",
       "2             2        2           1            1000       94.5  ...   \n",
       "3             4        3           2            1000       99.8  ...   \n",
       "4             4        3           3            1000       99.4  ...   \n",
       "..          ...      ...         ...             ...        ...  ...   \n",
       "200           4        3           1            1000      109.1  ...   \n",
       "201           4        3           1            1000      109.1  ...   \n",
       "202           4        3           1            1000      109.1  ...   \n",
       "203           4        3           1            1000      109.1  ...   \n",
       "204           4        3           1            1000      109.1  ...   \n",
       "\n",
       "     enginesize  fuelsystem  boreratio  stroke compressionratio  horsepower  \\\n",
       "0           130           1       3.47    2.68              9.0         111   \n",
       "1           130           1       3.47    2.68              9.0         111   \n",
       "2           152           1       2.68    3.47              9.0         154   \n",
       "3           109           1       3.19    3.40             10.0         102   \n",
       "4           136           1       3.19    3.40              8.0         115   \n",
       "..          ...         ...        ...     ...              ...         ...   \n",
       "200         141           1       3.78    3.15              9.5         114   \n",
       "201         141           1       3.78    3.15              8.7         160   \n",
       "202         173           1       3.58    2.87              8.8         134   \n",
       "203         145           2       3.01    3.40             23.0         106   \n",
       "204         141           1       3.78    3.15              9.5         114   \n",
       "\n",
       "     peakrpm  citympg  highwaympg    price  \n",
       "0       5000       21          27  13495.0  \n",
       "1       5000       21          27  16500.0  \n",
       "2       5000       19          26  16500.0  \n",
       "3       5500       24          30  13950.0  \n",
       "4       5500       18          22  17450.0  \n",
       "..       ...      ...         ...      ...  \n",
       "200     5400       23          28  16845.0  \n",
       "201     5300       19          25  19045.0  \n",
       "202     5500       18          23  21485.0  \n",
       "203     4800       26          27  22470.0  \n",
       "204     5400       19          25  22625.0  \n",
       "\n",
       "[205 rows x 26 columns]"
      ]
     },
     "execution_count": 2,
     "metadata": {},
     "output_type": "execute_result"
    }
   ],
   "source": [
    "car_price=pd.read_csv(\"/kaggle/input/car-prices/CarPrice_Assignment.csv\")\n",
    "car_price['fueltype'].replace({'gas':1,'diesel':2},inplace=True)\n",
    "car_price['doornumber'].replace({'two':2,'four':4},inplace=True)\n",
    "car_price['enginelocation'].replace({'front':1000,'rear':2000},inplace=True)\n",
    "print(car_price['carbody'].unique())\n",
    "car_price['carbody'].replace({'convertible':6,'hatchback':2,'sedan':3,'wagon':4,'hardtop':5},inplace=True)\n",
    "print(car_price['fuelsystem'].unique())\n",
    "car_price['fuelsystem'].replace({'mpfi':1,'idi':2,'2bbl':3,'mfi':4,'1bbl':5,'spfi':6,'4bbl':7,'spdi':8},inplace=True)\n",
    "car_price['aspiration'].replace({'std':1,'turbo':2},inplace=True)\n",
    "print(car_price['cylindernumber'].unique())\n",
    "car_price['cylindernumber'].replace({'two':2,'three':3,'four':4,'five':5,'six':6,'eight':8,'twelve':12},inplace=True)\n",
    "print(car_price['drivewheel'].unique())\n",
    "car_price['drivewheel'].replace({'rwd':1,'fwd':2,'4wd':3},inplace=True)\n",
    "car_price"
   ]
  },
  {
   "cell_type": "code",
   "execution_count": 3,
   "id": "e76f2a2d",
   "metadata": {
    "execution": {
     "iopub.execute_input": "2023-11-05T17:50:47.781473Z",
     "iopub.status.busy": "2023-11-05T17:50:47.780983Z",
     "iopub.status.idle": "2023-11-05T17:50:47.787771Z",
     "shell.execute_reply": "2023-11-05T17:50:47.786350Z"
    },
    "papermill": {
     "duration": 0.019635,
     "end_time": "2023-11-05T17:50:47.790613",
     "exception": false,
     "start_time": "2023-11-05T17:50:47.770978",
     "status": "completed"
    },
    "tags": []
   },
   "outputs": [],
   "source": [
    "car_price.set_index(\"car_ID\",inplace=True)"
   ]
  },
  {
   "cell_type": "code",
   "execution_count": 4,
   "id": "e4b922bd",
   "metadata": {
    "execution": {
     "iopub.execute_input": "2023-11-05T17:50:47.811196Z",
     "iopub.status.busy": "2023-11-05T17:50:47.809757Z",
     "iopub.status.idle": "2023-11-05T17:50:47.819565Z",
     "shell.execute_reply": "2023-11-05T17:50:47.818611Z"
    },
    "papermill": {
     "duration": 0.023361,
     "end_time": "2023-11-05T17:50:47.822262",
     "exception": false,
     "start_time": "2023-11-05T17:50:47.798901",
     "status": "completed"
    },
    "tags": []
   },
   "outputs": [],
   "source": [
    "car_price.drop(['CarName','doornumber','enginetype'],axis=1,inplace=True)"
   ]
  },
  {
   "cell_type": "code",
   "execution_count": 5,
   "id": "ae745c1f",
   "metadata": {
    "execution": {
     "iopub.execute_input": "2023-11-05T17:50:47.840935Z",
     "iopub.status.busy": "2023-11-05T17:50:47.840474Z",
     "iopub.status.idle": "2023-11-05T17:50:47.852270Z",
     "shell.execute_reply": "2023-11-05T17:50:47.851366Z"
    },
    "papermill": {
     "duration": 0.023934,
     "end_time": "2023-11-05T17:50:47.854577",
     "exception": false,
     "start_time": "2023-11-05T17:50:47.830643",
     "status": "completed"
    },
    "tags": []
   },
   "outputs": [
    {
     "data": {
      "text/plain": [
       "symboling          -0.079978\n",
       "fueltype            0.105679\n",
       "aspiration          0.177926\n",
       "carbody             0.312111\n",
       "drivewheel         -0.577992\n",
       "enginelocation      0.324973\n",
       "wheelbase           0.577816\n",
       "carlength           0.682920\n",
       "carwidth            0.759325\n",
       "carheight           0.119336\n",
       "curbweight          0.835305\n",
       "cylindernumber      0.718305\n",
       "enginesize          0.874145\n",
       "fuelsystem         -0.393677\n",
       "boreratio           0.553173\n",
       "stroke              0.079443\n",
       "compressionratio    0.067984\n",
       "horsepower          0.808139\n",
       "peakrpm            -0.085267\n",
       "citympg            -0.685751\n",
       "highwaympg         -0.697599\n",
       "price               1.000000\n",
       "Name: price, dtype: float64"
      ]
     },
     "execution_count": 5,
     "metadata": {},
     "output_type": "execute_result"
    }
   ],
   "source": [
    "car_price.corr()['price']"
   ]
  },
  {
   "cell_type": "code",
   "execution_count": 6,
   "id": "5b058931",
   "metadata": {
    "execution": {
     "iopub.execute_input": "2023-11-05T17:50:47.874250Z",
     "iopub.status.busy": "2023-11-05T17:50:47.873280Z",
     "iopub.status.idle": "2023-11-05T17:50:47.885307Z",
     "shell.execute_reply": "2023-11-05T17:50:47.884161Z"
    },
    "papermill": {
     "duration": 0.02448,
     "end_time": "2023-11-05T17:50:47.887621",
     "exception": false,
     "start_time": "2023-11-05T17:50:47.863141",
     "status": "completed"
    },
    "tags": []
   },
   "outputs": [
    {
     "data": {
      "text/plain": [
       "carbody           0.312111\n",
       "drivewheel       -0.577992\n",
       "enginelocation    0.324973\n",
       "wheelbase         0.577816\n",
       "carlength         0.682920\n",
       "carwidth          0.759325\n",
       "curbweight        0.835305\n",
       "cylindernumber    0.718305\n",
       "enginesize        0.874145\n",
       "fuelsystem       -0.393677\n",
       "boreratio         0.553173\n",
       "horsepower        0.808139\n",
       "citympg          -0.685751\n",
       "highwaympg       -0.697599\n",
       "price             1.000000\n",
       "Name: price, dtype: float64"
      ]
     },
     "execution_count": 6,
     "metadata": {},
     "output_type": "execute_result"
    }
   ],
   "source": [
    "car_price.drop(['symboling','compressionratio','peakrpm','stroke','carheight','fueltype','aspiration'],axis=1,inplace=True)\n",
    "car_price.corr()['price']"
   ]
  },
  {
   "cell_type": "code",
   "execution_count": 7,
   "id": "54ea96d0",
   "metadata": {
    "execution": {
     "iopub.execute_input": "2023-11-05T17:50:47.907523Z",
     "iopub.status.busy": "2023-11-05T17:50:47.906316Z",
     "iopub.status.idle": "2023-11-05T17:50:47.934354Z",
     "shell.execute_reply": "2023-11-05T17:50:47.933024Z"
    },
    "papermill": {
     "duration": 0.040699,
     "end_time": "2023-11-05T17:50:47.936792",
     "exception": false,
     "start_time": "2023-11-05T17:50:47.896093",
     "status": "completed"
    },
    "tags": []
   },
   "outputs": [
    {
     "data": {
      "text/html": [
       "<div>\n",
       "<style scoped>\n",
       "    .dataframe tbody tr th:only-of-type {\n",
       "        vertical-align: middle;\n",
       "    }\n",
       "\n",
       "    .dataframe tbody tr th {\n",
       "        vertical-align: top;\n",
       "    }\n",
       "\n",
       "    .dataframe thead th {\n",
       "        text-align: right;\n",
       "    }\n",
       "</style>\n",
       "<table border=\"1\" class=\"dataframe\">\n",
       "  <thead>\n",
       "    <tr style=\"text-align: right;\">\n",
       "      <th></th>\n",
       "      <th>carbody</th>\n",
       "      <th>drivewheel</th>\n",
       "      <th>enginelocation</th>\n",
       "      <th>wheelbase</th>\n",
       "      <th>carlength</th>\n",
       "      <th>carwidth</th>\n",
       "      <th>curbweight</th>\n",
       "      <th>cylindernumber</th>\n",
       "      <th>enginesize</th>\n",
       "      <th>fuelsystem</th>\n",
       "      <th>boreratio</th>\n",
       "      <th>horsepower</th>\n",
       "      <th>citympg</th>\n",
       "      <th>highwaympg</th>\n",
       "      <th>price</th>\n",
       "    </tr>\n",
       "    <tr>\n",
       "      <th>car_ID</th>\n",
       "      <th></th>\n",
       "      <th></th>\n",
       "      <th></th>\n",
       "      <th></th>\n",
       "      <th></th>\n",
       "      <th></th>\n",
       "      <th></th>\n",
       "      <th></th>\n",
       "      <th></th>\n",
       "      <th></th>\n",
       "      <th></th>\n",
       "      <th></th>\n",
       "      <th></th>\n",
       "      <th></th>\n",
       "      <th></th>\n",
       "    </tr>\n",
       "  </thead>\n",
       "  <tbody>\n",
       "    <tr>\n",
       "      <th>1</th>\n",
       "      <td>6</td>\n",
       "      <td>1</td>\n",
       "      <td>1000</td>\n",
       "      <td>88.6</td>\n",
       "      <td>168.8</td>\n",
       "      <td>64.1</td>\n",
       "      <td>2548</td>\n",
       "      <td>4</td>\n",
       "      <td>130</td>\n",
       "      <td>1</td>\n",
       "      <td>3.47</td>\n",
       "      <td>111</td>\n",
       "      <td>21</td>\n",
       "      <td>27</td>\n",
       "      <td>13495.0</td>\n",
       "    </tr>\n",
       "    <tr>\n",
       "      <th>2</th>\n",
       "      <td>6</td>\n",
       "      <td>1</td>\n",
       "      <td>1000</td>\n",
       "      <td>88.6</td>\n",
       "      <td>168.8</td>\n",
       "      <td>64.1</td>\n",
       "      <td>2548</td>\n",
       "      <td>4</td>\n",
       "      <td>130</td>\n",
       "      <td>1</td>\n",
       "      <td>3.47</td>\n",
       "      <td>111</td>\n",
       "      <td>21</td>\n",
       "      <td>27</td>\n",
       "      <td>16500.0</td>\n",
       "    </tr>\n",
       "    <tr>\n",
       "      <th>3</th>\n",
       "      <td>2</td>\n",
       "      <td>1</td>\n",
       "      <td>1000</td>\n",
       "      <td>94.5</td>\n",
       "      <td>171.2</td>\n",
       "      <td>65.5</td>\n",
       "      <td>2823</td>\n",
       "      <td>6</td>\n",
       "      <td>152</td>\n",
       "      <td>1</td>\n",
       "      <td>2.68</td>\n",
       "      <td>154</td>\n",
       "      <td>19</td>\n",
       "      <td>26</td>\n",
       "      <td>16500.0</td>\n",
       "    </tr>\n",
       "    <tr>\n",
       "      <th>4</th>\n",
       "      <td>3</td>\n",
       "      <td>2</td>\n",
       "      <td>1000</td>\n",
       "      <td>99.8</td>\n",
       "      <td>176.6</td>\n",
       "      <td>66.2</td>\n",
       "      <td>2337</td>\n",
       "      <td>4</td>\n",
       "      <td>109</td>\n",
       "      <td>1</td>\n",
       "      <td>3.19</td>\n",
       "      <td>102</td>\n",
       "      <td>24</td>\n",
       "      <td>30</td>\n",
       "      <td>13950.0</td>\n",
       "    </tr>\n",
       "    <tr>\n",
       "      <th>5</th>\n",
       "      <td>3</td>\n",
       "      <td>3</td>\n",
       "      <td>1000</td>\n",
       "      <td>99.4</td>\n",
       "      <td>176.6</td>\n",
       "      <td>66.4</td>\n",
       "      <td>2824</td>\n",
       "      <td>5</td>\n",
       "      <td>136</td>\n",
       "      <td>1</td>\n",
       "      <td>3.19</td>\n",
       "      <td>115</td>\n",
       "      <td>18</td>\n",
       "      <td>22</td>\n",
       "      <td>17450.0</td>\n",
       "    </tr>\n",
       "    <tr>\n",
       "      <th>...</th>\n",
       "      <td>...</td>\n",
       "      <td>...</td>\n",
       "      <td>...</td>\n",
       "      <td>...</td>\n",
       "      <td>...</td>\n",
       "      <td>...</td>\n",
       "      <td>...</td>\n",
       "      <td>...</td>\n",
       "      <td>...</td>\n",
       "      <td>...</td>\n",
       "      <td>...</td>\n",
       "      <td>...</td>\n",
       "      <td>...</td>\n",
       "      <td>...</td>\n",
       "      <td>...</td>\n",
       "    </tr>\n",
       "    <tr>\n",
       "      <th>201</th>\n",
       "      <td>3</td>\n",
       "      <td>1</td>\n",
       "      <td>1000</td>\n",
       "      <td>109.1</td>\n",
       "      <td>188.8</td>\n",
       "      <td>68.9</td>\n",
       "      <td>2952</td>\n",
       "      <td>4</td>\n",
       "      <td>141</td>\n",
       "      <td>1</td>\n",
       "      <td>3.78</td>\n",
       "      <td>114</td>\n",
       "      <td>23</td>\n",
       "      <td>28</td>\n",
       "      <td>16845.0</td>\n",
       "    </tr>\n",
       "    <tr>\n",
       "      <th>202</th>\n",
       "      <td>3</td>\n",
       "      <td>1</td>\n",
       "      <td>1000</td>\n",
       "      <td>109.1</td>\n",
       "      <td>188.8</td>\n",
       "      <td>68.8</td>\n",
       "      <td>3049</td>\n",
       "      <td>4</td>\n",
       "      <td>141</td>\n",
       "      <td>1</td>\n",
       "      <td>3.78</td>\n",
       "      <td>160</td>\n",
       "      <td>19</td>\n",
       "      <td>25</td>\n",
       "      <td>19045.0</td>\n",
       "    </tr>\n",
       "    <tr>\n",
       "      <th>203</th>\n",
       "      <td>3</td>\n",
       "      <td>1</td>\n",
       "      <td>1000</td>\n",
       "      <td>109.1</td>\n",
       "      <td>188.8</td>\n",
       "      <td>68.9</td>\n",
       "      <td>3012</td>\n",
       "      <td>6</td>\n",
       "      <td>173</td>\n",
       "      <td>1</td>\n",
       "      <td>3.58</td>\n",
       "      <td>134</td>\n",
       "      <td>18</td>\n",
       "      <td>23</td>\n",
       "      <td>21485.0</td>\n",
       "    </tr>\n",
       "    <tr>\n",
       "      <th>204</th>\n",
       "      <td>3</td>\n",
       "      <td>1</td>\n",
       "      <td>1000</td>\n",
       "      <td>109.1</td>\n",
       "      <td>188.8</td>\n",
       "      <td>68.9</td>\n",
       "      <td>3217</td>\n",
       "      <td>6</td>\n",
       "      <td>145</td>\n",
       "      <td>2</td>\n",
       "      <td>3.01</td>\n",
       "      <td>106</td>\n",
       "      <td>26</td>\n",
       "      <td>27</td>\n",
       "      <td>22470.0</td>\n",
       "    </tr>\n",
       "    <tr>\n",
       "      <th>205</th>\n",
       "      <td>3</td>\n",
       "      <td>1</td>\n",
       "      <td>1000</td>\n",
       "      <td>109.1</td>\n",
       "      <td>188.8</td>\n",
       "      <td>68.9</td>\n",
       "      <td>3062</td>\n",
       "      <td>4</td>\n",
       "      <td>141</td>\n",
       "      <td>1</td>\n",
       "      <td>3.78</td>\n",
       "      <td>114</td>\n",
       "      <td>19</td>\n",
       "      <td>25</td>\n",
       "      <td>22625.0</td>\n",
       "    </tr>\n",
       "  </tbody>\n",
       "</table>\n",
       "<p>205 rows × 15 columns</p>\n",
       "</div>"
      ],
      "text/plain": [
       "        carbody  drivewheel  enginelocation  wheelbase  carlength  carwidth  \\\n",
       "car_ID                                                                        \n",
       "1             6           1            1000       88.6      168.8      64.1   \n",
       "2             6           1            1000       88.6      168.8      64.1   \n",
       "3             2           1            1000       94.5      171.2      65.5   \n",
       "4             3           2            1000       99.8      176.6      66.2   \n",
       "5             3           3            1000       99.4      176.6      66.4   \n",
       "...         ...         ...             ...        ...        ...       ...   \n",
       "201           3           1            1000      109.1      188.8      68.9   \n",
       "202           3           1            1000      109.1      188.8      68.8   \n",
       "203           3           1            1000      109.1      188.8      68.9   \n",
       "204           3           1            1000      109.1      188.8      68.9   \n",
       "205           3           1            1000      109.1      188.8      68.9   \n",
       "\n",
       "        curbweight  cylindernumber  enginesize  fuelsystem  boreratio  \\\n",
       "car_ID                                                                  \n",
       "1             2548               4         130           1       3.47   \n",
       "2             2548               4         130           1       3.47   \n",
       "3             2823               6         152           1       2.68   \n",
       "4             2337               4         109           1       3.19   \n",
       "5             2824               5         136           1       3.19   \n",
       "...            ...             ...         ...         ...        ...   \n",
       "201           2952               4         141           1       3.78   \n",
       "202           3049               4         141           1       3.78   \n",
       "203           3012               6         173           1       3.58   \n",
       "204           3217               6         145           2       3.01   \n",
       "205           3062               4         141           1       3.78   \n",
       "\n",
       "        horsepower  citympg  highwaympg    price  \n",
       "car_ID                                            \n",
       "1              111       21          27  13495.0  \n",
       "2              111       21          27  16500.0  \n",
       "3              154       19          26  16500.0  \n",
       "4              102       24          30  13950.0  \n",
       "5              115       18          22  17450.0  \n",
       "...            ...      ...         ...      ...  \n",
       "201            114       23          28  16845.0  \n",
       "202            160       19          25  19045.0  \n",
       "203            134       18          23  21485.0  \n",
       "204            106       26          27  22470.0  \n",
       "205            114       19          25  22625.0  \n",
       "\n",
       "[205 rows x 15 columns]"
      ]
     },
     "execution_count": 7,
     "metadata": {},
     "output_type": "execute_result"
    }
   ],
   "source": [
    "car_price"
   ]
  },
  {
   "cell_type": "code",
   "execution_count": 8,
   "id": "9965949d",
   "metadata": {
    "execution": {
     "iopub.execute_input": "2023-11-05T17:50:47.957851Z",
     "iopub.status.busy": "2023-11-05T17:50:47.956708Z",
     "iopub.status.idle": "2023-11-05T17:50:47.966106Z",
     "shell.execute_reply": "2023-11-05T17:50:47.965226Z"
    },
    "papermill": {
     "duration": 0.022345,
     "end_time": "2023-11-05T17:50:47.968299",
     "exception": false,
     "start_time": "2023-11-05T17:50:47.945954",
     "status": "completed"
    },
    "tags": []
   },
   "outputs": [
    {
     "data": {
      "text/plain": [
       "carbody               3.00\n",
       "drivewheel            1.00\n",
       "enginelocation     1000.00\n",
       "wheelbase           103.50\n",
       "carlength           189.00\n",
       "carwidth             66.90\n",
       "curbweight         3230.00\n",
       "cylindernumber        6.00\n",
       "enginesize          209.00\n",
       "fuelsystem            1.00\n",
       "boreratio             3.62\n",
       "horsepower          182.00\n",
       "citympg              16.00\n",
       "highwaympg           22.00\n",
       "price             30760.00\n",
       "Name: 16, dtype: float64"
      ]
     },
     "execution_count": 8,
     "metadata": {},
     "output_type": "execute_result"
    }
   ],
   "source": [
    "car_price.shape\n",
    "car_price.loc[16]"
   ]
  },
  {
   "cell_type": "code",
   "execution_count": 9,
   "id": "830555cb",
   "metadata": {
    "execution": {
     "iopub.execute_input": "2023-11-05T17:50:47.988924Z",
     "iopub.status.busy": "2023-11-05T17:50:47.988476Z",
     "iopub.status.idle": "2023-11-05T17:50:48.007322Z",
     "shell.execute_reply": "2023-11-05T17:50:48.005964Z"
    },
    "papermill": {
     "duration": 0.032264,
     "end_time": "2023-11-05T17:50:48.009857",
     "exception": false,
     "start_time": "2023-11-05T17:50:47.977593",
     "status": "completed"
    },
    "tags": []
   },
   "outputs": [
    {
     "name": "stdout",
     "output_type": "stream",
     "text": [
      "5118.0 45400.0\n"
     ]
    }
   ],
   "source": [
    "car_price_scaled=car_price.copy()\n",
    "mini=car_price['price'].min()\n",
    "maxi=car_price['price'].max()\n",
    "print(mini,maxi)\n",
    "for c in car_price_scaled:\n",
    "    car_price_scaled[c]=car_price_scaled[c]/car_price_scaled[c].abs().max()\n"
   ]
  },
  {
   "cell_type": "code",
   "execution_count": 10,
   "id": "a2f27e5b",
   "metadata": {
    "execution": {
     "iopub.execute_input": "2023-11-05T17:50:48.032321Z",
     "iopub.status.busy": "2023-11-05T17:50:48.030806Z",
     "iopub.status.idle": "2023-11-05T17:50:48.048898Z",
     "shell.execute_reply": "2023-11-05T17:50:48.047541Z"
    },
    "papermill": {
     "duration": 0.03254,
     "end_time": "2023-11-05T17:50:48.052311",
     "exception": false,
     "start_time": "2023-11-05T17:50:48.019771",
     "status": "completed"
    },
    "tags": []
   },
   "outputs": [],
   "source": [
    "car = car_price.sample(frac=0.3, random_state=42)\n",
    "y_test = car.to_numpy()[:, -1]\n",
    "for c in car.columns:\n",
    "    car[c] = car[c] / car[c].abs().max()\n",
    "\n",
    "\n",
    "x_test = car.to_numpy()[:, :-1]  \n",
    "\n",
    "\n",
    "x_train = car_price_scaled.to_numpy()[:, :-1]\n",
    "y_train = car_price.to_numpy()[:, -1]\n"
   ]
  },
  {
   "cell_type": "markdown",
   "id": "cdccc75e",
   "metadata": {
    "execution": {
     "iopub.execute_input": "2023-11-01T19:17:15.252989Z",
     "iopub.status.busy": "2023-11-01T19:17:15.252591Z",
     "iopub.status.idle": "2023-11-01T19:17:15.260888Z",
     "shell.execute_reply": "2023-11-01T19:17:15.259526Z",
     "shell.execute_reply.started": "2023-11-01T19:17:15.252954Z"
    },
    "papermill": {
     "duration": 0.008874,
     "end_time": "2023-11-05T17:50:48.070521",
     "exception": false,
     "start_time": "2023-11-05T17:50:48.061647",
     "status": "completed"
    },
    "tags": []
   },
   "source": []
  },
  {
   "cell_type": "code",
   "execution_count": 11,
   "id": "59733fcd",
   "metadata": {
    "execution": {
     "iopub.execute_input": "2023-11-05T17:50:48.091478Z",
     "iopub.status.busy": "2023-11-05T17:50:48.090965Z",
     "iopub.status.idle": "2023-11-05T17:50:48.101817Z",
     "shell.execute_reply": "2023-11-05T17:50:48.100494Z"
    },
    "papermill": {
     "duration": 0.024655,
     "end_time": "2023-11-05T17:50:48.104282",
     "exception": false,
     "start_time": "2023-11-05T17:50:48.079627",
     "status": "completed"
    },
    "tags": []
   },
   "outputs": [],
   "source": [
    "def model(x,y,learning_rate,iterations):\n",
    "    m=y.size\n",
    "    theta=np.zeros((x.shape[1],1))\n",
    "    y_rev=np.zeros(y.shape)\n",
    "    cost_list=[]\n",
    "    y_actual=[]\n",
    "    for i in range(iterations):\n",
    "        y_pred=np.dot(x,theta)\n",
    "        cost=(1/(2*m))*np.sum(np.square(y_pred-y))\n",
    "        d_theta=(1/m)*np.dot(x.T,(y_pred-y))\n",
    "        theta=theta-(learning_rate*d_theta)\n",
    "        cost_list.append(cost)\n",
    "        if(i%(iterations/10)==0):\n",
    "            print(\"cost is:\",cost)\n",
    "    y_rev=(y_pred*(maxi-mini))+mini\n",
    "    print(y_rev.shape)\n",
    "    print(y_pred.shape)\n",
    "    print(x.shape)\n",
    "    print(theta.shape)\n",
    "    print(d_theta.shape)\n",
    "    print(m)\n",
    "    return theta,cost_list,y_pred"
   ]
  },
  {
   "cell_type": "code",
   "execution_count": 12,
   "id": "c09420b5",
   "metadata": {
    "execution": {
     "iopub.execute_input": "2023-11-05T17:50:48.124773Z",
     "iopub.status.busy": "2023-11-05T17:50:48.124278Z",
     "iopub.status.idle": "2023-11-05T17:50:48.784259Z",
     "shell.execute_reply": "2023-11-05T17:50:48.782843Z"
    },
    "papermill": {
     "duration": 0.673484,
     "end_time": "2023-11-05T17:50:48.787033",
     "exception": false,
     "start_time": "2023-11-05T17:50:48.113549",
     "status": "completed"
    },
    "tags": []
   },
   "outputs": [
    {
     "name": "stdout",
     "output_type": "stream",
     "text": [
      "cost is: 119890739.74557047\n",
      "cost is: 5126584.482923263\n",
      "cost is: 4929926.6512489095\n",
      "cost is: 4853377.5842421\n",
      "cost is: 4816634.121719138\n",
      "cost is: 4795238.199033874\n",
      "cost is: 4780899.204871149\n",
      "cost is: 4770451.392624601\n",
      "cost is: 4762487.276925041\n",
      "cost is: 4756267.1097817\n",
      "(205, 1)\n",
      "(205, 1)\n",
      "(205, 14)\n",
      "(14, 1)\n",
      "(14, 1)\n",
      "205\n"
     ]
    }
   ],
   "source": [
    "iteration=20000\n",
    "learning_rate=0.2\n",
    "theta,cost_list,y_pred=model(x_train,y_train.reshape(y_train.size,1),learning_rate,iteration)"
   ]
  },
  {
   "cell_type": "code",
   "execution_count": 13,
   "id": "9b8840cb",
   "metadata": {
    "execution": {
     "iopub.execute_input": "2023-11-05T17:50:48.810786Z",
     "iopub.status.busy": "2023-11-05T17:50:48.810301Z",
     "iopub.status.idle": "2023-11-05T17:50:49.151635Z",
     "shell.execute_reply": "2023-11-05T17:50:49.150341Z"
    },
    "papermill": {
     "duration": 0.357849,
     "end_time": "2023-11-05T17:50:49.154990",
     "exception": false,
     "start_time": "2023-11-05T17:50:48.797141",
     "status": "completed"
    },
    "tags": []
   },
   "outputs": [
    {
     "data": {
      "text/plain": [
       "[<matplotlib.lines.Line2D at 0x7f6342d8a200>]"
      ]
     },
     "execution_count": 13,
     "metadata": {},
     "output_type": "execute_result"
    },
    {
     "data": {
      "image/png": "[encoded data removed]",
      "text/plain": [
       "<Figure size 640x480 with 1 Axes>"
      ]
     },
     "metadata": {},
     "output_type": "display_data"
    }
   ],
   "source": [
    "plt.plot(y_pred)\n",
    "plt.plot(y_train)"
   ]
  },
  {
   "cell_type": "code",
   "execution_count": 14,
   "id": "07c575da",
   "metadata": {
    "execution": {
     "iopub.execute_input": "2023-11-05T17:50:49.181268Z",
     "iopub.status.busy": "2023-11-05T17:50:49.180816Z",
     "iopub.status.idle": "2023-11-05T17:50:49.504809Z",
     "shell.execute_reply": "2023-11-05T17:50:49.503466Z"
    },
    "papermill": {
     "duration": 0.340494,
     "end_time": "2023-11-05T17:50:49.507664",
     "exception": false,
     "start_time": "2023-11-05T17:50:49.167170",
     "status": "completed"
    },
    "tags": []
   },
   "outputs": [
    {
     "data": {
      "image/png": "[encoded data removed]",
      "text/plain": [
       "<Figure size 640x480 with 1 Axes>"
      ]
     },
     "metadata": {},
     "output_type": "display_data"
    },
    {
     "data": {
      "text/plain": [
       "<Figure size 1500x1500 with 0 Axes>"
      ]
     },
     "metadata": {},
     "output_type": "display_data"
    }
   ],
   "source": [
    "plt.plot(cost_list)\n",
    "fig = plt.figure(figsize=(15,15))\n",
    "fig.show()\n"
   ]
  },
  {
   "cell_type": "code",
   "execution_count": null,
   "id": "abd63648",
   "metadata": {
    "papermill": {
     "duration": 0.010994,
     "end_time": "2023-11-05T17:50:49.530109",
     "exception": false,
     "start_time": "2023-11-05T17:50:49.519115",
     "status": "completed"
    },
    "tags": []
   },
   "outputs": [],
   "source": []
  },
  {
   "cell_type": "code",
   "execution_count": 15,
   "id": "8012206d",
   "metadata": {
    "execution": {
     "iopub.execute_input": "2023-11-05T17:50:49.555226Z",
     "iopub.status.busy": "2023-11-05T17:50:49.554795Z",
     "iopub.status.idle": "2023-11-05T17:50:51.072785Z",
     "shell.execute_reply": "2023-11-05T17:50:51.071385Z"
    },
    "papermill": {
     "duration": 1.534326,
     "end_time": "2023-11-05T17:50:51.075918",
     "exception": false,
     "start_time": "2023-11-05T17:50:49.541592",
     "status": "completed"
    },
    "tags": []
   },
   "outputs": [
    {
     "name": "stdout",
     "output_type": "stream",
     "text": [
      "82.21153999021152 %\n"
     ]
    }
   ],
   "source": [
    "from sklearn.metrics import r2_score\n",
    "r2=r2_score(y_pred,y_train)\n",
    "print(r2*100,\"%\")"
   ]
  },
  {
   "cell_type": "code",
   "execution_count": 16,
   "id": "9dc2f2ee",
   "metadata": {
    "execution": {
     "iopub.execute_input": "2023-11-05T17:50:51.101924Z",
     "iopub.status.busy": "2023-11-05T17:50:51.101405Z",
     "iopub.status.idle": "2023-11-05T17:50:51.422860Z",
     "shell.execute_reply": "2023-11-05T17:50:51.421617Z"
    },
    "papermill": {
     "duration": 0.338496,
     "end_time": "2023-11-05T17:50:51.426151",
     "exception": false,
     "start_time": "2023-11-05T17:50:51.087655",
     "status": "completed"
    },
    "tags": []
   },
   "outputs": [
    {
     "name": "stdout",
     "output_type": "stream",
     "text": [
      "(14, 1)\n",
      "81.24060212415529 %\n"
     ]
    },
    {
     "data": {
      "text/plain": [
       "[<matplotlib.lines.Line2D at 0x7f632e355f00>]"
      ]
     },
     "execution_count": 16,
     "metadata": {},
     "output_type": "execute_result"
    },
    {
     "data": {
      "image/png": "[encoded data removed]",
      "text/plain": [
       "<Figure size 640x480 with 1 Axes>"
      ]
     },
     "metadata": {},
     "output_type": "display_data"
    }
   ],
   "source": [
    "\n",
    "\n",
    "print(theta.shape)\n",
    "print((r2_score(np.dot(x_test,theta),y_test)*100),'%')\n",
    "plt.plot(np.dot(x_test,theta))\n",
    "plt.plot(y_test)"
   ]
  },
  {
   "cell_type": "code",
   "execution_count": 17,
   "id": "99242e0e",
   "metadata": {
    "execution": {
     "iopub.execute_input": "2023-11-05T17:50:51.454196Z",
     "iopub.status.busy": "2023-11-05T17:50:51.453757Z",
     "iopub.status.idle": "2023-11-05T17:50:51.788939Z",
     "shell.execute_reply": "2023-11-05T17:50:51.786767Z"
    },
    "papermill": {
     "duration": 0.353601,
     "end_time": "2023-11-05T17:50:51.792693",
     "exception": false,
     "start_time": "2023-11-05T17:50:51.439092",
     "status": "completed"
    },
    "tags": []
   },
   "outputs": [
    {
     "data": {
      "text/plain": [
       "Text(0, 0.5, 'Loss')"
      ]
     },
     "execution_count": 17,
     "metadata": {},
     "output_type": "execute_result"
    },
    {
     "data": {
      "image/png": "[encoded data removed]",
      "text/plain": [
       "<Figure size 640x480 with 1 Axes>"
      ]
     },
     "metadata": {},
     "output_type": "display_data"
    }
   ],
   "source": [
    "plt.plot(range(iteration), cost_list, label='Training Loss')\n",
    "plt.xlabel('Epoch')\n",
    "plt.ylabel('Loss')"
   ]
  },
  {
   "cell_type": "code",
   "execution_count": null,
   "id": "4b9fb0bb",
   "metadata": {
    "papermill": {
     "duration": 0.021544,
     "end_time": "2023-11-05T17:50:51.833237",
     "exception": false,
     "start_time": "2023-11-05T17:50:51.811693",
     "status": "completed"
    },
    "tags": []
   },
   "outputs": [],
   "source": []
  }
 ],
 "metadata": {
  "kernelspec": {
   "display_name": "Python 3",
   "language": "python",
   "name": "python3"
  },
  "language_info": {
   "codemirror_mode": {
    "name": "ipython",
    "version": 3
   },
   "file_extension": ".py",
   "mimetype": "text/x-python",
   "name": "python",
   "nbconvert_exporter": "python",
   "pygments_lexer": "ipython3",
   "version": "3.10.12"
  },
  "papermill": {
   "default_parameters": {},
   "duration": 9.286248,
   "end_time": "2023-11-05T17:50:52.570224",
   "environment_variables": {},
   "exception": null,
   "input_path": "__notebook__.ipynb",
   "output_path": "__notebook__.ipynb",
   "parameters": {},
   "start_time": "2023-11-05T17:50:43.283976",
   "version": "2.4.0"
  }
 },
 "nbformat": 4,
 "nbformat_minor": 5
}
