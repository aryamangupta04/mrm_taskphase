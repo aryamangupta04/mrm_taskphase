{
 "cells": [
  {
   "cell_type": "code",
   "execution_count": 1,
   "id": "d9abda73",
   "metadata": {
    "_cell_guid": "b1076dfc-b9ad-4769-8c92-a6c4dae69d19",
    "_uuid": "8f2839f25d086af736a60e9eeb907d3b93b6e0e5",
    "execution": {
     "iopub.execute_input": "2023-11-15T13:26:10.028196Z",
     "iopub.status.busy": "2023-11-15T13:26:10.027511Z",
     "iopub.status.idle": "2023-11-15T13:26:12.329727Z",
     "shell.execute_reply": "2023-11-15T13:26:12.328525Z"
    },
    "papermill": {
     "duration": 2.311936,
     "end_time": "2023-11-15T13:26:12.333192",
     "exception": false,
     "start_time": "2023-11-15T13:26:10.021256",
     "status": "completed"
    },
    "tags": []
   },
   "outputs": [
    {
     "name": "stdout",
     "output_type": "stream",
     "text": [
      "/kaggle/input/titanic/titanic.csv\n"
     ]
    }
   ],
   "source": [
    "# This Python 3 environment comes with many helpful analytics libraries installed\n",
    "# It is defined by the kaggle/python Docker image: https://github.com/kaggle/docker-python\n",
    "# For example, here's several helpful packages to load\n",
    "\n",
    "import numpy as np # linear algebra\n",
    "import pandas as pd # data processing, CSV file I/O (e.g. pd.read_csv)\n",
    "from sklearn.metrics import confusion_matrix\n",
    "import seaborn as sns\n",
    "from sklearn.metrics import precision_score, recall_score\n",
    "\n",
    "\n",
    "# Input data files are available in the read-only \"../input/\" directory\n",
    "# For example, running this (by clicking run or pressing Shift+Enter) will list all files under the input directory\n",
    "\n",
    "import os\n",
    "for dirname, _, filenames in os.walk('/kaggle/input'):\n",
    "    for filename in filenames:\n",
    "        print(os.path.join(dirname, filename))\n",
    "from sklearn.model_selection import train_test_split\n",
    "        \n",
    "# You can write up to 20GB to the current directory (/kaggle/working/) that gets preserved as output when you create a version using \"Save & Run All\" \n",
    "# You can also write temporary files to /kaggle/temp/, but they won't be saved outside of the current session"
   ]
  },
  {
   "cell_type": "code",
   "execution_count": 2,
   "id": "c353c947",
   "metadata": {
    "execution": {
     "iopub.execute_input": "2023-11-15T13:26:12.344860Z",
     "iopub.status.busy": "2023-11-15T13:26:12.343912Z",
     "iopub.status.idle": "2023-11-15T13:26:12.405534Z",
     "shell.execute_reply": "2023-11-15T13:26:12.404286Z"
    },
    "papermill": {
     "duration": 0.070575,
     "end_time": "2023-11-15T13:26:12.408429",
     "exception": false,
     "start_time": "2023-11-15T13:26:12.337854",
     "status": "completed"
    },
    "tags": []
   },
   "outputs": [
    {
     "data": {
      "text/plain": [
       "Survived           1.000000\n",
       "Pclass            -0.338481\n",
       "Age               -0.062164\n",
       "SibSp             -0.035322\n",
       "Parch              0.081629\n",
       "Fare               0.257307\n",
       "Category_female    0.543351\n",
       "Category_male     -0.543351\n",
       "encoded_C          0.168240\n",
       "encoded_Q          0.003650\n",
       "encoded_S         -0.155660\n",
       "Name: Survived, dtype: float64"
      ]
     },
     "execution_count": 2,
     "metadata": {},
     "output_type": "execute_result"
    }
   ],
   "source": [
    "df=pd.read_csv(\"/kaggle/input/titanic/titanic.csv\")\n",
    "df.set_index('PassengerId',inplace=True)\n",
    "df.interpolate(inplace=True)\n",
    "df_encoded = pd.get_dummies(df['Sex'], prefix='Category').astype(int)\n",
    "df=pd.concat([df,df_encoded],axis=1)\n",
    "df_encoded=pd.get_dummies(df['Embarked'],prefix='encoded').astype(int)\n",
    "df=pd.concat([df,df_encoded],axis=1)\n",
    "df.drop(['Name','Sex','Ticket','Cabin','Embarked'],axis=1,inplace=True)\n",
    "df.corr()['Survived']"
   ]
  },
  {
   "cell_type": "code",
   "execution_count": 3,
   "id": "f3b85e73",
   "metadata": {
    "execution": {
     "iopub.execute_input": "2023-11-15T13:26:12.419724Z",
     "iopub.status.busy": "2023-11-15T13:26:12.419245Z",
     "iopub.status.idle": "2023-11-15T13:26:12.446024Z",
     "shell.execute_reply": "2023-11-15T13:26:12.444835Z"
    },
    "papermill": {
     "duration": 0.035662,
     "end_time": "2023-11-15T13:26:12.448747",
     "exception": false,
     "start_time": "2023-11-15T13:26:12.413085",
     "status": "completed"
    },
    "tags": []
   },
   "outputs": [
    {
     "data": {
      "text/html": [
       "<div>\n",
       "<style scoped>\n",
       "    .dataframe tbody tr th:only-of-type {\n",
       "        vertical-align: middle;\n",
       "    }\n",
       "\n",
       "    .dataframe tbody tr th {\n",
       "        vertical-align: top;\n",
       "    }\n",
       "\n",
       "    .dataframe thead th {\n",
       "        text-align: right;\n",
       "    }\n",
       "</style>\n",
       "<table border=\"1\" class=\"dataframe\">\n",
       "  <thead>\n",
       "    <tr style=\"text-align: right;\">\n",
       "      <th></th>\n",
       "      <th>Survived</th>\n",
       "      <th>Pclass</th>\n",
       "      <th>Age</th>\n",
       "      <th>SibSp</th>\n",
       "      <th>Parch</th>\n",
       "      <th>Fare</th>\n",
       "      <th>Category_female</th>\n",
       "      <th>Category_male</th>\n",
       "      <th>encoded_C</th>\n",
       "      <th>encoded_Q</th>\n",
       "      <th>encoded_S</th>\n",
       "    </tr>\n",
       "    <tr>\n",
       "      <th>PassengerId</th>\n",
       "      <th></th>\n",
       "      <th></th>\n",
       "      <th></th>\n",
       "      <th></th>\n",
       "      <th></th>\n",
       "      <th></th>\n",
       "      <th></th>\n",
       "      <th></th>\n",
       "      <th></th>\n",
       "      <th></th>\n",
       "      <th></th>\n",
       "    </tr>\n",
       "  </thead>\n",
       "  <tbody>\n",
       "    <tr>\n",
       "      <th>1</th>\n",
       "      <td>0</td>\n",
       "      <td>3</td>\n",
       "      <td>22.0</td>\n",
       "      <td>1</td>\n",
       "      <td>0</td>\n",
       "      <td>7.2500</td>\n",
       "      <td>0</td>\n",
       "      <td>1</td>\n",
       "      <td>0</td>\n",
       "      <td>0</td>\n",
       "      <td>1</td>\n",
       "    </tr>\n",
       "    <tr>\n",
       "      <th>2</th>\n",
       "      <td>1</td>\n",
       "      <td>1</td>\n",
       "      <td>38.0</td>\n",
       "      <td>1</td>\n",
       "      <td>0</td>\n",
       "      <td>71.2833</td>\n",
       "      <td>1</td>\n",
       "      <td>0</td>\n",
       "      <td>1</td>\n",
       "      <td>0</td>\n",
       "      <td>0</td>\n",
       "    </tr>\n",
       "    <tr>\n",
       "      <th>3</th>\n",
       "      <td>1</td>\n",
       "      <td>3</td>\n",
       "      <td>26.0</td>\n",
       "      <td>0</td>\n",
       "      <td>0</td>\n",
       "      <td>7.9250</td>\n",
       "      <td>1</td>\n",
       "      <td>0</td>\n",
       "      <td>0</td>\n",
       "      <td>0</td>\n",
       "      <td>1</td>\n",
       "    </tr>\n",
       "    <tr>\n",
       "      <th>4</th>\n",
       "      <td>1</td>\n",
       "      <td>1</td>\n",
       "      <td>35.0</td>\n",
       "      <td>1</td>\n",
       "      <td>0</td>\n",
       "      <td>53.1000</td>\n",
       "      <td>1</td>\n",
       "      <td>0</td>\n",
       "      <td>0</td>\n",
       "      <td>0</td>\n",
       "      <td>1</td>\n",
       "    </tr>\n",
       "    <tr>\n",
       "      <th>5</th>\n",
       "      <td>0</td>\n",
       "      <td>3</td>\n",
       "      <td>35.0</td>\n",
       "      <td>0</td>\n",
       "      <td>0</td>\n",
       "      <td>8.0500</td>\n",
       "      <td>0</td>\n",
       "      <td>1</td>\n",
       "      <td>0</td>\n",
       "      <td>0</td>\n",
       "      <td>1</td>\n",
       "    </tr>\n",
       "    <tr>\n",
       "      <th>...</th>\n",
       "      <td>...</td>\n",
       "      <td>...</td>\n",
       "      <td>...</td>\n",
       "      <td>...</td>\n",
       "      <td>...</td>\n",
       "      <td>...</td>\n",
       "      <td>...</td>\n",
       "      <td>...</td>\n",
       "      <td>...</td>\n",
       "      <td>...</td>\n",
       "      <td>...</td>\n",
       "    </tr>\n",
       "    <tr>\n",
       "      <th>887</th>\n",
       "      <td>0</td>\n",
       "      <td>2</td>\n",
       "      <td>27.0</td>\n",
       "      <td>0</td>\n",
       "      <td>0</td>\n",
       "      <td>13.0000</td>\n",
       "      <td>0</td>\n",
       "      <td>1</td>\n",
       "      <td>0</td>\n",
       "      <td>0</td>\n",
       "      <td>1</td>\n",
       "    </tr>\n",
       "    <tr>\n",
       "      <th>888</th>\n",
       "      <td>1</td>\n",
       "      <td>1</td>\n",
       "      <td>19.0</td>\n",
       "      <td>0</td>\n",
       "      <td>0</td>\n",
       "      <td>30.0000</td>\n",
       "      <td>1</td>\n",
       "      <td>0</td>\n",
       "      <td>0</td>\n",
       "      <td>0</td>\n",
       "      <td>1</td>\n",
       "    </tr>\n",
       "    <tr>\n",
       "      <th>889</th>\n",
       "      <td>0</td>\n",
       "      <td>3</td>\n",
       "      <td>22.5</td>\n",
       "      <td>1</td>\n",
       "      <td>2</td>\n",
       "      <td>23.4500</td>\n",
       "      <td>1</td>\n",
       "      <td>0</td>\n",
       "      <td>0</td>\n",
       "      <td>0</td>\n",
       "      <td>1</td>\n",
       "    </tr>\n",
       "    <tr>\n",
       "      <th>890</th>\n",
       "      <td>1</td>\n",
       "      <td>1</td>\n",
       "      <td>26.0</td>\n",
       "      <td>0</td>\n",
       "      <td>0</td>\n",
       "      <td>30.0000</td>\n",
       "      <td>0</td>\n",
       "      <td>1</td>\n",
       "      <td>1</td>\n",
       "      <td>0</td>\n",
       "      <td>0</td>\n",
       "    </tr>\n",
       "    <tr>\n",
       "      <th>891</th>\n",
       "      <td>0</td>\n",
       "      <td>3</td>\n",
       "      <td>32.0</td>\n",
       "      <td>0</td>\n",
       "      <td>0</td>\n",
       "      <td>7.7500</td>\n",
       "      <td>0</td>\n",
       "      <td>1</td>\n",
       "      <td>0</td>\n",
       "      <td>1</td>\n",
       "      <td>0</td>\n",
       "    </tr>\n",
       "  </tbody>\n",
       "</table>\n",
       "<p>891 rows × 11 columns</p>\n",
       "</div>"
      ],
      "text/plain": [
       "             Survived  Pclass   Age  SibSp  Parch     Fare  Category_female  \\\n",
       "PassengerId                                                                   \n",
       "1                   0       3  22.0      1      0   7.2500                0   \n",
       "2                   1       1  38.0      1      0  71.2833                1   \n",
       "3                   1       3  26.0      0      0   7.9250                1   \n",
       "4                   1       1  35.0      1      0  53.1000                1   \n",
       "5                   0       3  35.0      0      0   8.0500                0   \n",
       "...               ...     ...   ...    ...    ...      ...              ...   \n",
       "887                 0       2  27.0      0      0  13.0000                0   \n",
       "888                 1       1  19.0      0      0  30.0000                1   \n",
       "889                 0       3  22.5      1      2  23.4500                1   \n",
       "890                 1       1  26.0      0      0  30.0000                0   \n",
       "891                 0       3  32.0      0      0   7.7500                0   \n",
       "\n",
       "             Category_male  encoded_C  encoded_Q  encoded_S  \n",
       "PassengerId                                                  \n",
       "1                        1          0          0          1  \n",
       "2                        0          1          0          0  \n",
       "3                        0          0          0          1  \n",
       "4                        0          0          0          1  \n",
       "5                        1          0          0          1  \n",
       "...                    ...        ...        ...        ...  \n",
       "887                      1          0          0          1  \n",
       "888                      0          0          0          1  \n",
       "889                      0          0          0          1  \n",
       "890                      1          1          0          0  \n",
       "891                      1          0          1          0  \n",
       "\n",
       "[891 rows x 11 columns]"
      ]
     },
     "execution_count": 3,
     "metadata": {},
     "output_type": "execute_result"
    }
   ],
   "source": [
    "df"
   ]
  },
  {
   "cell_type": "code",
   "execution_count": 4,
   "id": "c039d71a",
   "metadata": {
    "execution": {
     "iopub.execute_input": "2023-11-15T13:26:12.460400Z",
     "iopub.status.busy": "2023-11-15T13:26:12.459965Z",
     "iopub.status.idle": "2023-11-15T13:26:12.484208Z",
     "shell.execute_reply": "2023-11-15T13:26:12.483013Z"
    },
    "papermill": {
     "duration": 0.032946,
     "end_time": "2023-11-15T13:26:12.486722",
     "exception": false,
     "start_time": "2023-11-15T13:26:12.453776",
     "status": "completed"
    },
    "tags": []
   },
   "outputs": [
    {
     "data": {
      "text/plain": [
       "(891, 10)"
      ]
     },
     "execution_count": 4,
     "metadata": {},
     "output_type": "execute_result"
    }
   ],
   "source": [
    "def z_score_normalization(column):\n",
    "    mean_value = column.mean()\n",
    "    std_dev = column.std()\n",
    "    normalized_column = (column - mean_value) / std_dev\n",
    "    return normalized_column\n",
    "X_initial = df.drop(columns=['Survived'])\n",
    "y=df['Survived']\n",
    "y=np.where(y==0,-1,1)\n",
    "X = X_initial.apply(z_score_normalization)\n",
    "\n",
    "X_train, X_test, y_train, y_test = train_test_split(X, y, test_size=0.2, random_state=42, shuffle=True)\n",
    "X_train_array=X_train.to_numpy()\n",
    "X_test_array=X_test.to_numpy()\n",
    "\n",
    "X.shape"
   ]
  },
  {
   "cell_type": "code",
   "execution_count": 5,
   "id": "b9e17029",
   "metadata": {
    "execution": {
     "iopub.execute_input": "2023-11-15T13:26:12.499640Z",
     "iopub.status.busy": "2023-11-15T13:26:12.498437Z",
     "iopub.status.idle": "2023-11-15T13:26:12.507076Z",
     "shell.execute_reply": "2023-11-15T13:26:12.506079Z"
    },
    "papermill": {
     "duration": 0.017631,
     "end_time": "2023-11-15T13:26:12.509583",
     "exception": false,
     "start_time": "2023-11-15T13:26:12.491952",
     "status": "completed"
    },
    "tags": []
   },
   "outputs": [],
   "source": [
    "def fit(X,y,itr,lbd,lr):\n",
    "    m,n=X.shape\n",
    "    y_=np.where(y<=0,-1,1)\n",
    "    w=np.zeros(n)\n",
    "    b=0\n",
    "    for _ in range(itr):\n",
    "        for idx, x_i in enumerate(X):\n",
    "            condition=y_[idx]*(np.dot(x_i,w)-b)>=1\n",
    "            if condition:\n",
    "                w-=lr*(2*lbd*w)\n",
    "            else:\n",
    "                w-=lr*(2*lbd*w-np.dot(x_i,y_[idx]))\n",
    "                b-=lr*(y_[idx])\n",
    "    return w,b\n",
    "\n",
    "                \n",
    "                \n",
    "                "
   ]
  },
  {
   "cell_type": "code",
   "execution_count": 6,
   "id": "0ca0665c",
   "metadata": {
    "execution": {
     "iopub.execute_input": "2023-11-15T13:26:12.522235Z",
     "iopub.status.busy": "2023-11-15T13:26:12.521012Z",
     "iopub.status.idle": "2023-11-15T13:26:12.526565Z",
     "shell.execute_reply": "2023-11-15T13:26:12.525623Z"
    },
    "papermill": {
     "duration": 0.014555,
     "end_time": "2023-11-15T13:26:12.529074",
     "exception": false,
     "start_time": "2023-11-15T13:26:12.514519",
     "status": "completed"
    },
    "tags": []
   },
   "outputs": [],
   "source": [
    "def predict(X,w,b):\n",
    "    approx=np.dot(X,w)-b\n",
    "    return np.sign(approx)"
   ]
  },
  {
   "cell_type": "code",
   "execution_count": 7,
   "id": "dcebef0a",
   "metadata": {
    "execution": {
     "iopub.execute_input": "2023-11-15T13:26:12.541096Z",
     "iopub.status.busy": "2023-11-15T13:26:12.540683Z",
     "iopub.status.idle": "2023-11-15T13:26:22.399625Z",
     "shell.execute_reply": "2023-11-15T13:26:22.398215Z"
    },
    "papermill": {
     "duration": 9.868936,
     "end_time": "2023-11-15T13:26:22.403040",
     "exception": false,
     "start_time": "2023-11-15T13:26:12.534104",
     "status": "completed"
    },
    "tags": []
   },
   "outputs": [
    {
     "data": {
      "text/plain": [
       "array([-0.0742598 , -0.01883783, -0.15177865, -0.05701456,  0.05553098,\n",
       "        0.55535396, -0.55535396,  0.02682122,  0.04612321, -0.05248941])"
      ]
     },
     "execution_count": 7,
     "metadata": {},
     "output_type": "execute_result"
    }
   ],
   "source": [
    "lbd=0.01\n",
    "lr=0.01\n",
    "iterations=1000\n",
    "w,b=fit(X_train_array,y_train,iterations,lbd,lr)\n",
    "w"
   ]
  },
  {
   "cell_type": "code",
   "execution_count": 8,
   "id": "bd14da9f",
   "metadata": {
    "execution": {
     "iopub.execute_input": "2023-11-15T13:26:22.419693Z",
     "iopub.status.busy": "2023-11-15T13:26:22.418559Z",
     "iopub.status.idle": "2023-11-15T13:26:22.786331Z",
     "shell.execute_reply": "2023-11-15T13:26:22.785158Z"
    },
    "papermill": {
     "duration": 0.379047,
     "end_time": "2023-11-15T13:26:22.789342",
     "exception": false,
     "start_time": "2023-11-15T13:26:22.410295",
     "status": "completed"
    },
    "tags": []
   },
   "outputs": [
    {
     "name": "stdout",
     "output_type": "stream",
     "text": [
      "[-1. -1. -1.  1.  1.  1.  1. -1.  1.  1. -1. -1.  1. -1. -1.  1. -1.  1.\n",
      " -1. -1. -1. -1.  1. -1. -1. -1. -1. -1. -1.  1. -1.  1. -1.  1. -1. -1.\n",
      " -1.  1.  1. -1. -1. -1. -1. -1.  1. -1. -1. -1. -1. -1.  1.  1. -1. -1.\n",
      " -1.  1. -1.  1.  1.  1. -1.  1.  1. -1. -1.  1. -1. -1. -1.  1.  1.  1.\n",
      " -1.  1. -1. -1.  1.  1.  1.  1. -1.  1.  1. -1. -1. -1.  1.  1. -1. -1.\n",
      " -1.  1. -1. -1. -1. -1. -1. -1.  1. -1. -1. -1.  1. -1. -1. -1.  1. -1.\n",
      " -1. -1.  1. -1.  1. -1. -1. -1. -1. -1.  1.  1. -1.  1.  1. -1. -1. -1.\n",
      "  1. -1.  1. -1.  1. -1. -1.  1. -1.  1.  1. -1. -1.  1. -1.  1. -1. -1.\n",
      "  1.  1. -1. -1.  1. -1. -1. -1. -1.  1. -1. -1. -1.  1.  1.  1. -1. -1.\n",
      " -1.  1. -1. -1. -1.  1. -1. -1. -1.  1. -1.  1. -1. -1.  1.  1.  1.]\n",
      "accuracy  78.2122905027933 %\n",
      "the preicions is:  0.7536231884057971\n",
      "the recall is:  0.7027027027027027\n"
     ]
    },
    {
     "data": {
      "image/png": "[encoded data removed]",
      "text/plain": [
       "<Figure size 640x480 with 2 Axes>"
      ]
     },
     "metadata": {},
     "output_type": "display_data"
    }
   ],
   "source": [
    "predictions=predict(X_test_array,w,b)\n",
    "print(predictions)\n",
    "def accuracy(y_test,y_pred):\n",
    "    accuracy=np.sum(y_test==y_pred)/len(y_test)\n",
    "    return accuracy\n",
    "print(\"accuracy \",100*accuracy(y_test,predictions),\"%\")\n",
    "cm = confusion_matrix(y_test, predictions)\n",
    "sns.heatmap(cm,annot=True,fmt=\"d\")\n",
    "precision=precision_score(y_test,predictions)\n",
    "recall=recall_score(y_test,predictions)\n",
    "print(\"the preicions is: \",precision)\n",
    "print(\"the recall is: \",recall)"
   ]
  },
  {
   "cell_type": "code",
   "execution_count": null,
   "id": "d80b2d68",
   "metadata": {
    "papermill": {
     "duration": 0.005256,
     "end_time": "2023-11-15T13:26:22.800084",
     "exception": false,
     "start_time": "2023-11-15T13:26:22.794828",
     "status": "completed"
    },
    "tags": []
   },
   "outputs": [],
   "source": []
  }
 ],
 "metadata": {
  "kernelspec": {
   "display_name": "Python 3",
   "language": "python",
   "name": "python3"
  },
  "language_info": {
   "codemirror_mode": {
    "name": "ipython",
    "version": 3
   },
   "file_extension": ".py",
   "mimetype": "text/x-python",
   "name": "python",
   "nbconvert_exporter": "python",
   "pygments_lexer": "ipython3",
   "version": "3.10.12"
  },
  "papermill": {
   "default_parameters": {},
   "duration": 17.772098,
   "end_time": "2023-11-15T13:26:23.527258",
   "environment_variables": {},
   "exception": null,
   "input_path": "__notebook__.ipynb",
   "output_path": "__notebook__.ipynb",
   "parameters": {},
   "start_time": "2023-11-15T13:26:05.755160",
   "version": "2.4.0"
  }
 },
 "nbformat": 4,
 "nbformat_minor": 5
}
